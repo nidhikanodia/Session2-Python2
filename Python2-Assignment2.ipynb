{
 "cells": [
  {
   "cell_type": "code",
   "execution_count": 1,
   "metadata": {},
   "outputs": [
    {
     "name": "stdout",
     "output_type": "stream",
     "text": [
      "Enter a sequence of comma-separated numbers: 12,13,14,15,16\n",
      "The list is:  ['12', '13', '14', '15', '16']\n"
     ]
    }
   ],
   "source": [
    "# Question 1\n",
    "\n",
    "str1 = input(\"Enter a sequence of comma-separated numbers: \")\n",
    "list1 = str1.split(\",\")\n",
    "print(\"The list is: \", list1)\n"
   ]
  },
  {
   "cell_type": "code",
   "execution_count": 2,
   "metadata": {},
   "outputs": [
    {
     "name": "stdout",
     "output_type": "stream",
     "text": [
      "*\n",
      "**\n",
      "***\n",
      "****\n",
      "*****\n",
      "****\n",
      "***\n",
      "**\n",
      "*\n"
     ]
    }
   ],
   "source": [
    "# Question 2\n",
    "for i in range(5):\n",
    "    for j in range (i+1):\n",
    "        print(\"*\",end=\"\")\n",
    "    print()\n",
    "for i in range(5,1,-1):\n",
    "    for j in range (i-1):\n",
    "        print(\"*\",end=\"\")\n",
    "    print()"
   ]
  },
  {
   "cell_type": "code",
   "execution_count": 3,
   "metadata": {},
   "outputs": [
    {
     "name": "stdout",
     "output_type": "stream",
     "text": [
      "Enter the word to reverse: Acadgild\n",
      "The reversed word is: dligdacA\n"
     ]
    }
   ],
   "source": [
    "# Question 3\n",
    "str1 = input(\"Enter the word to reverse: \")\n",
    "revstr1 = str1[::-1]\n",
    "print(\"The reversed word is: \" + revstr1)"
   ]
  },
  {
   "cell_type": "code",
   "execution_count": 8,
   "metadata": {},
   "outputs": [
    {
     "name": "stdout",
     "output_type": "stream",
     "text": [
      "WE, THE PEOPLE OF INDIA,\n",
      "        having solemnly resolved to constitute India into a SOVEREIGN, !\n",
      "                SOCIALIST, SECULAR, DEMOCRATIC REPUBLIC\n",
      "                 and to secure to all its citizens\n"
     ]
    }
   ],
   "source": [
    "# Question 4\n",
    "str1 = 'WE, THE PEOPLE OF INDIA,\\n\\thaving solemnly resolved to constitute India into a SOVEREIGN, !\\n\\t\\tSOCIALIST, SECULAR, DEMOCRATIC REPUBLIC\\n\\t\\t and to secure to all its citizens'.expandtabs()\n",
    "print(str1)"
   ]
  },
  {
   "cell_type": "code",
   "execution_count": null,
   "metadata": {},
   "outputs": [],
   "source": []
  },
  {
   "cell_type": "code",
   "execution_count": null,
   "metadata": {},
   "outputs": [],
   "source": []
  },
  {
   "cell_type": "code",
   "execution_count": null,
   "metadata": {},
   "outputs": [],
   "source": []
  },
  {
   "cell_type": "code",
   "execution_count": null,
   "metadata": {},
   "outputs": [],
   "source": []
  }
 ],
 "metadata": {
  "kernelspec": {
   "display_name": "Python 3",
   "language": "python",
   "name": "python3"
  },
  "language_info": {
   "codemirror_mode": {
    "name": "ipython",
    "version": 3
   },
   "file_extension": ".py",
   "mimetype": "text/x-python",
   "name": "python",
   "nbconvert_exporter": "python",
   "pygments_lexer": "ipython3",
   "version": "3.7.0"
  }
 },
 "nbformat": 4,
 "nbformat_minor": 2
}
